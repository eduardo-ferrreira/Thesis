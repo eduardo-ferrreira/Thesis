{
 "cells": [
  {
   "cell_type": "code",
   "execution_count": 2,
   "metadata": {},
   "outputs": [],
   "source": [
    "import numpy as np\n",
    "import urllib.request #to open URLs \n",
    "import functools as ft #complex operations\n",
    "from bs4 import BeautifulSoup #aid in html reading\n",
    "from matplotlib import pyplot as plt\n",
    "import csv\n",
    "import pandas as pd"
   ]
  },
  {
   "cell_type": "code",
   "execution_count": 26,
   "metadata": {},
   "outputs": [],
   "source": [
    "def get_voltage():\n",
    "    url = 'http://10.10.15.20/cgi-bin/moni/allch.cgi'  #url of the yokogawa (carapau) containing the voltage values\n",
    "\n",
    "    html = urllib.request.urlopen(url).read() #open url and read it\n",
    "    soup = BeautifulSoup(html, 'html.parser') #parse the html\n",
    "\n",
    "    tables = soup.find_all('table') #find the table in the html content\n",
    "    table = tables[1] #there are 2 tables in the html content, we're interested in the second one (has the voltage values)\n",
    "\n",
    "    td_elements = table.find_all('td', align='center') #this block of code is getting the values of the voltage by narrwoing down on \n",
    "\n",
    "    voltage_values = []                                #some elements that their code lines have in common: 'td', 'center', \n",
    "    for td in td_elements:                             #'b', and not having 'width'. \n",
    "        b = td.find('b')                               \n",
    "        if b:\n",
    "            try:\n",
    "                value = float(b.text.strip())\n",
    "                if 'width' not in td.attrs:\n",
    "                    voltage_values.append(value)\n",
    "            except ValueError:\n",
    "                pass\n",
    "    return voltage_values[0:5]\n"
   ]
  },
  {
   "cell_type": "markdown",
   "metadata": {},
   "source": [
    "## TO RUN WITH RODS AT 100%"
   ]
  },
  {
   "cell_type": "code",
   "execution_count": 17,
   "metadata": {},
   "outputs": [
    {
     "name": "stdout",
     "output_type": "stream",
     "text": [
      "[4.995, 4.999, 4.998, 4.998, 5.002]\n"
     ]
    }
   ],
   "source": [
    "voltage_100 = get_voltage()\n",
    "print(voltage_100)"
   ]
  },
  {
   "cell_type": "markdown",
   "metadata": {},
   "source": [
    "## TO RUN WITH RODS AT 80%"
   ]
  },
  {
   "cell_type": "code",
   "execution_count": 28,
   "metadata": {},
   "outputs": [
    {
     "data": {
      "text/plain": [
       "[3.992, 3.994, 4.001, 3.988, 3.995]"
      ]
     },
     "execution_count": 28,
     "metadata": {},
     "output_type": "execute_result"
    }
   ],
   "source": [
    "voltage_80 = get_voltage()\n",
    "voltage_80"
   ]
  },
  {
   "cell_type": "markdown",
   "metadata": {},
   "source": [
    "## TO RUN WITH RODS AT 60%"
   ]
  },
  {
   "cell_type": "code",
   "execution_count": 29,
   "metadata": {},
   "outputs": [
    {
     "data": {
      "text/plain": [
       "[2.994, 2.993, 2.992, 2.991, 2.994]"
      ]
     },
     "execution_count": 29,
     "metadata": {},
     "output_type": "execute_result"
    }
   ],
   "source": [
    "voltage_60 = get_voltage()\n",
    "voltage_60"
   ]
  },
  {
   "cell_type": "markdown",
   "metadata": {},
   "source": [
    "## TO RUN WITH RODS AT 40%"
   ]
  },
  {
   "cell_type": "code",
   "execution_count": 32,
   "metadata": {},
   "outputs": [
    {
     "data": {
      "text/plain": [
       "[1.995, 1.999, 1.994, 1.986, 1.997]"
      ]
     },
     "execution_count": 32,
     "metadata": {},
     "output_type": "execute_result"
    }
   ],
   "source": [
    "voltage_40 = get_voltage()\n",
    "voltage_40"
   ]
  },
  {
   "cell_type": "markdown",
   "metadata": {},
   "source": [
    "## TO RUN WITH RODS AT 20%"
   ]
  },
  {
   "cell_type": "code",
   "execution_count": 33,
   "metadata": {},
   "outputs": [
    {
     "data": {
      "text/plain": [
       "[0.991, 0.997, 0.993, 0.992, 0.997]"
      ]
     },
     "execution_count": 33,
     "metadata": {},
     "output_type": "execute_result"
    }
   ],
   "source": [
    "voltage_20 = get_voltage()\n",
    "voltage_20"
   ]
  },
  {
   "cell_type": "markdown",
   "metadata": {},
   "source": [
    "## TO RUN WITH RODS AT 0%"
   ]
  },
  {
   "cell_type": "code",
   "execution_count": 34,
   "metadata": {},
   "outputs": [
    {
     "data": {
      "text/plain": [
       "[-0.001, 0.001, -0.001, 0.003, 0.0]"
      ]
     },
     "execution_count": 34,
     "metadata": {},
     "output_type": "execute_result"
    }
   ],
   "source": [
    "voltage_0 = get_voltage()\n",
    "voltage_0"
   ]
  },
  {
   "cell_type": "markdown",
   "metadata": {},
   "source": [
    "### Saving data in csv file"
   ]
  },
  {
   "cell_type": "code",
   "execution_count": 42,
   "metadata": {},
   "outputs": [
    {
     "data": {
      "text/plain": [
       "[[-0.001, 0.991, 1.995, 2.994, 3.992, 4.995],\n",
       " [0.001, 0.997, 1.999, 2.993, 3.994, 4.999],\n",
       " [-0.001, 0.993, 1.994, 2.992, 4.001, 4.998],\n",
       " [0.003, 0.992, 1.986, 2.991, 3.988, 4.998],\n",
       " [0.0, 0.997, 1.997, 2.994, 3.995, 5.002]]"
      ]
     },
     "execution_count": 42,
     "metadata": {},
     "output_type": "execute_result"
    }
   ],
   "source": [
    "positions = [0,20,40,60,80,100]\n",
    "data = [[]]*5\n",
    "for i in range(len(data)):\n",
    "    data[0] = [voltage_0[0], voltage_20[0], voltage_40[0], voltage_60[0], voltage_80[0], voltage_100[0]]\n",
    "    data[1] = [voltage_0[1], voltage_20[1], voltage_40[1], voltage_60[1], voltage_80[1], voltage_100[1]]\n",
    "    data[2] = [voltage_0[2], voltage_20[2], voltage_40[2], voltage_60[2], voltage_80[2], voltage_100[2]]\n",
    "    data[3] = [voltage_0[3], voltage_20[3], voltage_40[3], voltage_60[3], voltage_80[3], voltage_100[3]]\n",
    "    data[4] = [voltage_0[4], voltage_20[4], voltage_40[4], voltage_60[4], voltage_80[4], voltage_100[4]]\n",
    "\n",
    "data"
   ]
  },
  {
   "cell_type": "code",
   "execution_count": 50,
   "metadata": {},
   "outputs": [],
   "source": [
    "filepath= r'C:/Users/eduardo.ferreira/Documents/rod_calibration.csv'\n",
    "\n",
    "with open(filepath, 'w', newline='') as csvfile:\n",
    "    writer = csv.writer(csvfile)\n",
    "    writer.writerow(['Position', 'B1', 'B2', 'B3', 'B4', 'BR'])  # Write header\n",
    "    writer.writerows(zip(positions, data[0],data[1],data[2],data[3],data[4])) # Write rows of lists\n",
    "    "
   ]
  }
 ],
 "metadata": {
  "kernelspec": {
   "display_name": "Python 3",
   "language": "python",
   "name": "python3"
  },
  "language_info": {
   "codemirror_mode": {
    "name": "ipython",
    "version": 3
   },
   "file_extension": ".py",
   "mimetype": "text/x-python",
   "name": "python",
   "nbconvert_exporter": "python",
   "pygments_lexer": "ipython3",
   "version": "3.12.2"
  }
 },
 "nbformat": 4,
 "nbformat_minor": 2
}
