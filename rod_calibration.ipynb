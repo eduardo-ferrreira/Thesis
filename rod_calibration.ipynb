{
 "cells": [
  {
   "cell_type": "code",
   "execution_count": 16,
   "metadata": {},
   "outputs": [],
   "source": [
    "import pyvisa\n",
    "import time\n",
    "import numpy as np\n",
    "import urllib.request #to open URLs \n",
    "import functools as ft #complex operations\n",
    "from bs4 import BeautifulSoup #aid in html reading\n",
    "from matplotlib import pyplot as plt\n",
    "import csv\n",
    "import pandas as pd"
   ]
  },
  {
   "cell_type": "markdown",
   "metadata": {},
   "source": [
    "## TO RUN WITH RODS AT 0%"
   ]
  },
  {
   "cell_type": "code",
   "execution_count": 57,
   "metadata": {},
   "outputs": [
    {
     "name": "stdout",
     "output_type": "stream",
     "text": [
      "[-0.002, -0.002, 0.0, -0.002, -0.006, 0.004]\n"
     ]
    }
   ],
   "source": [
    "url = 'http://10.10.15.20/cgi-bin/moni/allch.cgi'  #url of the yokogawa (carapau) containing the voltage values\n",
    "\n",
    "html = urllib.request.urlopen(url).read() #open url and read it\n",
    "soup = BeautifulSoup(html, 'html.parser') #parse the html\n",
    "\n",
    "tables = soup.find_all('table') #find the table in the html content\n",
    "table = tables[1] #there are 2 tables in the html content, we're interested in the second one (has the voltage values)\n",
    "\n",
    "td_elements = table.find_all('td', align='center') #this block of code is getting the values of the voltage by narrwoing down on \n",
    "\n",
    "voltage_values = []                                #some elements that their code lines have in common: 'td', 'center', \n",
    "for td in td_elements:                             #'b', and not having 'width'. \n",
    "    b = td.find('b')                               \n",
    "    if b:\n",
    "        try:\n",
    "            value = float(b.text.strip())\n",
    "            if 'width' not in td.attrs:\n",
    "                voltage_values.append(value)\n",
    "        except ValueError:\n",
    "            pass\n",
    "voltage_min = voltage_values\n",
    "print(voltage_min)"
   ]
  },
  {
   "cell_type": "markdown",
   "metadata": {},
   "source": [
    "## TO RUN WITH RODS AT 100%"
   ]
  },
  {
   "cell_type": "code",
   "execution_count": 59,
   "metadata": {},
   "outputs": [
    {
     "name": "stdout",
     "output_type": "stream",
     "text": [
      "[4.994, 4.998, 4.998, 4.994, 4.996, -0.023]\n"
     ]
    }
   ],
   "source": [
    "html = urllib.request.urlopen(url).read() #open url and read it\n",
    "soup = BeautifulSoup(html, 'html.parser') #parse the html\n",
    "\n",
    "tables = soup.find_all('table') #find the table in the html content\n",
    "table = tables[1] #there are 2 tables in the html content, we're interested in the second one (has the voltage values)\n",
    "\n",
    "td_elements = table.find_all('td', align='center') #this block of code is getting the values of the voltage by narrwoing down on \n",
    "\n",
    "voltage_values = []                                #some elements that their code lines have in common: 'td', 'center', \n",
    "for td in td_elements:                             #'b', and not having 'width'. \n",
    "    b = td.find('b')                               \n",
    "    if b:\n",
    "        try:\n",
    "            value = float(b.text.strip())\n",
    "            if 'width' not in td.attrs:\n",
    "                voltage_values.append(value)\n",
    "        except ValueError:\n",
    "            pass\n",
    "voltage_max = voltage_values\n",
    "print(voltage_max)"
   ]
  },
  {
   "cell_type": "markdown",
   "metadata": {},
   "source": [
    "### Saving data in csv file"
   ]
  },
  {
   "cell_type": "code",
   "execution_count": 84,
   "metadata": {},
   "outputs": [
    {
     "name": "stdout",
     "output_type": "stream",
     "text": [
      "[-0.002, -0.002, 0.0, -0.002, -0.006]\n",
      "[4.994, 4.998, 4.998, 4.994, 4.996]\n"
     ]
    }
   ],
   "source": [
    "del(voltage_max[-1])\n",
    "del(voltage_min[-1])\n",
    "print(voltage_min)\n",
    "print(voltage_max)"
   ]
  },
  {
   "cell_type": "code",
   "execution_count": 23,
   "metadata": {},
   "outputs": [
    {
     "ename": "TypeError",
     "evalue": "'Series' object is not callable",
     "output_type": "error",
     "traceback": [
      "\u001b[1;31m---------------------------------------------------------------------------\u001b[0m",
      "\u001b[1;31mTypeError\u001b[0m                                 Traceback (most recent call last)",
      "Cell \u001b[1;32mIn[23], line 4\u001b[0m\n\u001b[0;32m      1\u001b[0m voltage_min \u001b[38;5;241m=\u001b[39m [\u001b[38;5;241m-\u001b[39m\u001b[38;5;241m0.002\u001b[39m, \u001b[38;5;241m-\u001b[39m\u001b[38;5;241m0.002\u001b[39m, \u001b[38;5;241m0.0\u001b[39m, \u001b[38;5;241m-\u001b[39m\u001b[38;5;241m0.002\u001b[39m, \u001b[38;5;241m-\u001b[39m\u001b[38;5;241m0.006\u001b[39m]\n\u001b[0;32m      2\u001b[0m voltage_max \u001b[38;5;241m=\u001b[39m [\u001b[38;5;241m4.994\u001b[39m, \u001b[38;5;241m4.998\u001b[39m, \u001b[38;5;241m4.998\u001b[39m, \u001b[38;5;241m4.994\u001b[39m, \u001b[38;5;241m4.996\u001b[39m]\n\u001b[1;32m----> 4\u001b[0m x \u001b[38;5;241m=\u001b[39m np\u001b[38;5;241m.\u001b[39marange(\u001b[38;5;28;43mmin\u001b[39;49m\u001b[43m(\u001b[49m\u001b[43mvoltage_min\u001b[49m\u001b[43m)\u001b[49m, \u001b[38;5;28mmax\u001b[39m(voltage_max), \u001b[38;5;241m0.01\u001b[39m)\n\u001b[0;32m      6\u001b[0m \u001b[38;5;28;01mdef\u001b[39;00m \u001b[38;5;21mcalibration_curves\u001b[39m(i, x):\n\u001b[0;32m      7\u001b[0m     \u001b[38;5;28;01mreturn\u001b[39;00m \u001b[38;5;241m100\u001b[39m\u001b[38;5;241m/\u001b[39m(voltage_max[i]\u001b[38;5;241m-\u001b[39mvoltage_min[i])\u001b[38;5;241m*\u001b[39mx\n",
      "\u001b[1;31mTypeError\u001b[0m: 'Series' object is not callable"
     ]
    }
   ],
   "source": [
    "\n",
    "voltage_min = [-0.002, -0.002, 0.0, -0.002, -0.006]\n",
    "voltage_max = [4.994, 4.998, 4.998, 4.994, 4.996]\n",
    "\n",
    "x = np.arange(min(voltage_min), max(voltage_max), 0.01)\n",
    "\n",
    "def calibration_curves(i, x):\n",
    "    return 100/(voltage_max[i]-voltage_min[i])*x\n",
    "\n",
    "rods = ['1', '2', '3', '4', 'R']\n",
    "\n",
    "for i in range(len(rods)):\n",
    "    plt.plot(x, calibration_curves(i, x), label = f'BR_{rods[i]}')\n",
    "    plt.legend(frameon=True)\n"
   ]
  },
  {
   "cell_type": "code",
   "execution_count": 8,
   "metadata": {},
   "outputs": [],
   "source": [
    "voltage_min = [-0.002, -0.002, 0.0, -0.002, -0.006]\n",
    "voltage_max = [4.994, 4.998, 4.998, 4.994, 4.996]\n",
    "\n",
    "# Filepath for the CSV file\n",
    "filepath = 'rod_calibration.csv'\n",
    "\n",
    "# Write the list to a CSV file\n",
    "with open(filepath, 'w', newline='', encoding='utf-8') as csvfile:\n",
    "    writer = csv.writer(csvfile)\n",
    "    # Write each inner list as a row in the CSV file\n",
    "    writer.writerow(['min', 'max'])\n",
    "    writer.writerows(zip(voltage_min, voltage_max))\n",
    "    "
   ]
  }
 ],
 "metadata": {
  "kernelspec": {
   "display_name": "Python 3",
   "language": "python",
   "name": "python3"
  },
  "language_info": {
   "codemirror_mode": {
    "name": "ipython",
    "version": 3
   },
   "file_extension": ".py",
   "mimetype": "text/x-python",
   "name": "python",
   "nbconvert_exporter": "python",
   "pygments_lexer": "ipython3",
   "version": "3.12.2"
  }
 },
 "nbformat": 4,
 "nbformat_minor": 2
}
