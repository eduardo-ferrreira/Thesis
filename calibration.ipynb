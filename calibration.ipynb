{
 "cells": [
  {
   "cell_type": "markdown",
   "metadata": {},
   "source": [
    "## Calibration"
   ]
  },
  {
   "cell_type": "code",
   "execution_count": 15,
   "metadata": {},
   "outputs": [],
   "source": [
    "import pyvisa\n",
    "import time\n",
    "import numpy as np\n",
    "import urllib.request #to open URLs \n",
    "import functools as ft #complex operations\n",
    "from bs4 import BeautifulSoup #aid in html reading\n",
    "from matplotlib import pyplot as plt"
   ]
  },
  {
   "cell_type": "code",
   "execution_count": 8,
   "metadata": {},
   "outputs": [
    {
     "data": {
      "text/plain": [
       "10"
      ]
     },
     "execution_count": 8,
     "metadata": {},
     "output_type": "execute_result"
    }
   ],
   "source": [
    "rm = pyvisa.ResourceManager()\n",
    "\n",
    "keithley = rm.open_resource('TCPIP0::10.10.15.126::inst0::INSTR') #connecting to device via LAN, it may change the IP address \n",
    "keithley.write(':SYST:REM')\n",
    "keithley.write(':SOUR:FUNC CURR')  # Set the source function to current\n",
    "keithley.write('SOUR:CURR:DEL:AUTO OFF')\n",
    "keithley.write(':ROUT:TERM REAR')  # Set the output terminals to the rear panels\n",
    "keithley.write(':OUTP ON')  # Turn on the output"
   ]
  },
  {
   "cell_type": "code",
   "execution_count": 10,
   "metadata": {},
   "outputs": [],
   "source": [
    "current_list = [i * 10**-j for j in range(12, 3, -1) for i in range(1, 10)] #create a list that stores values\n",
    "\n",
    "log_lin_voltages = []\n",
    "\n",
    "url = 'http://10.10.15.22/cgi-bin/ope/allch.cgi'  #url of the yokogawa (truta) containing the voltage values\n",
    "\n",
    "for current in current_list:\n",
    "    keithley.write(f':SOUR:CURR {current}')\n",
    "    time.sleep(1)\n",
    "\n",
    "    values_for_average = []\n",
    "\n",
    "    i=0\n",
    "    while i<20:\n",
    "        html = urllib.request.urlopen(url).read() #open url and read it\n",
    "        soup = BeautifulSoup(html, 'html.parser') #parse the html\n",
    "\n",
    "        tables = soup.find_all('table') #find the table in the html content\n",
    "        table = tables[1] #there are 2 tables in the html content, we're interested in the second one (has the voltage values)\n",
    "\n",
    "        td_elements = table.find_all('td', align='center') #this block of code is getting the values of the voltage by narrwoing down on\n",
    "        voltage_values = []                                #some elements that their code lines have in common: 'td', 'center', \n",
    "        for td in td_elements:                             #'b', and not having 'width'. \n",
    "            b = td.find('b')                               \n",
    "            if b:\n",
    "                try:\n",
    "                    value = float(b.text.strip())\n",
    "                    if 'width' not in td.attrs:\n",
    "                        voltage_values.append(value)\n",
    "                except ValueError:\n",
    "                    pass\n",
    "\n",
    "        values_for_average.append(voltage_values[1])\n",
    "        time.sleep(1)\n",
    "        i+=1\n",
    "\n",
    "    log_lin_voltages.append(sum(values_for_average)/len(values_for_average))    \n",
    "    "
   ]
  },
  {
   "cell_type": "code",
   "execution_count": 26,
   "metadata": {},
   "outputs": [
    {
     "data": {
      "image/png": "[encoded data removed]",
      "text/plain": [
       "<Figure size 640x480 with 1 Axes>"
      ]
     },
     "metadata": {},
     "output_type": "display_data"
    }
   ],
   "source": [
    "log_lin_current = []\n",
    "for v in log_lin_voltages:\n",
    "    i = np.exp((v-15)/1.25)\n",
    "    log_lin_current.append(i)\n",
    "\n",
    "\n",
    "plt.plot(log_lin_current, log_lin_voltages)\n",
    "plt.scatter(log_lin_current, log_lin_voltages, color = 'r')\n",
    "plt.xscale('log')"
   ]
  },
  {
   "cell_type": "code",
   "execution_count": 49,
   "metadata": {},
   "outputs": [
    {
     "data": {
      "text/plain": [
       "18"
      ]
     },
     "execution_count": 49,
     "metadata": {},
     "output_type": "execute_result"
    }
   ],
   "source": [
    "keithley.write(':SOUR:CURR 5e-10')"
   ]
  }
 ],
 "metadata": {
  "kernelspec": {
   "display_name": "Python 3",
   "language": "python",
   "name": "python3"
  },
  "language_info": {
   "codemirror_mode": {
    "name": "ipython",
    "version": 3
   },
   "file_extension": ".py",
   "mimetype": "text/x-python",
   "name": "python",
   "nbconvert_exporter": "python",
   "pygments_lexer": "ipython3",
   "version": "3.11.8"
  }
 },
 "nbformat": 4,
 "nbformat_minor": 2
}
