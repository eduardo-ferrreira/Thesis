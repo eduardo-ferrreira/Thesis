{
 "cells": [
  {
   "cell_type": "code",
   "execution_count": 52,
   "id": "82cdb0b0",
   "metadata": {},
   "outputs": [],
   "source": [
    "import pyvisa\n",
    "import time\n",
    "import numpy as np\n",
    "import urllib.request #para abrir URLs \n",
    "import functools as ft #operações complexas\n",
    "from bs4 import BeautifulSoup\n",
    "import re"
   ]
  },
  {
   "cell_type": "code",
   "execution_count": 104,
   "id": "5b97868d",
   "metadata": {},
   "outputs": [
    {
     "data": {
      "text/plain": [
       "()"
      ]
     },
     "execution_count": 104,
     "metadata": {},
     "output_type": "execute_result"
    }
   ],
   "source": [
    "rm = pyvisa.ResourceManager()\n",
    "rm.list_resources()"
   ]
  },
  {
   "cell_type": "code",
   "execution_count": 4,
   "id": "777a9759",
   "metadata": {},
   "outputs": [
    {
     "name": "stdout",
     "output_type": "stream",
     "text": [
      "None\n"
     ]
    }
   ],
   "source": [
    "try:\n",
    "    keithley = rm.open_resource('USB0::0x05E6::0x2450::04608397::INSTR') #connecting to device via USB \n",
    "except pyvisa.errors.VisaIOError:\n",
    "    try:\n",
    "        keithley = rm.open_resource('TCPIP0::10.10.15.107::inst0::INSTR') #connecting to device via LAN\n",
    "    except pyvisa.errors.VisaIOError:\n",
    "        keithley = None\n",
    "\n",
    "print(keithley)"
   ]
  },
  {
   "cell_type": "code",
   "execution_count": 58,
   "id": "9e1ef5de",
   "metadata": {},
   "outputs": [
    {
     "name": "stdout",
     "output_type": "stream",
     "text": [
      "\n",
      " Identification of the instrument: KEITHLEY INSTRUMENTS,MODEL 2450,04608397,1.7.12b\n",
      "\n"
     ]
    }
   ],
   "source": [
    "identification = keithley.query(\"*IDN?\")\n",
    "print('\\n Identification of the keithley:', identification) #checking identification of the device being used"
   ]
  },
  {
   "cell_type": "code",
   "execution_count": 122,
   "id": "fd309e4f",
   "metadata": {},
   "outputs": [],
   "source": [
    "t0 = time.time()\n",
    "keithley.write(':SOUR:FUNC CURR')  # Set the source function to current\n",
    "keithley.write('SOUR:CURR:DEL:AUTO OFF')\n",
    "current = 25e-9\n",
    "keithley.write(f':SOUR:CURR {current}')  # Set the source current to 100uA\n",
    "keithley.write(':OUTP ON')  # Turn on the output\n",
    "keithley.write('DISPlay:SCReen SWIPE_USER') #activate display text in the instrument\n",
    "keithley.write(f'DISPlay:USER1:TEXT \"CURR: {current} A\"') #show the current being sourced. this was done due to display problems\n",
    "t1 = time.time()"
   ]
  },
  {
   "cell_type": "code",
   "execution_count": 123,
   "id": "e01692fa",
   "metadata": {},
   "outputs": [
    {
     "name": "stdout",
     "output_type": "stream",
     "text": [
      "\n",
      " Current value (A): 2.500e-08\n"
     ]
    }
   ],
   "source": [
    "t2=time.time()\n",
    "keithley.write(':SOUR:CURR?')  # Query the current source value\n",
    "time.sleep(1)\n",
    "source_current = keithley.read()  # Read the current source value\n",
    "print('\\n Current value (A): {:.3e}'.format(float(source_current)))\n",
    "t3 = time.time()"
   ]
  },
  {
   "cell_type": "code",
   "execution_count": 124,
   "id": "aa7e0687",
   "metadata": {},
   "outputs": [
    {
     "name": "stdout",
     "output_type": "stream",
     "text": [
      "Time to write:  2.007e-03\n",
      "Time to read:  4.147e-03\n"
     ]
    }
   ],
   "source": [
    "print('Time to write: ', '{:.3e}'.format(float(t1-t0)))\n",
    "print('Time to read: ', '{:.3e}'.format(float(t3-t2-1)))"
   ]
  },
  {
   "cell_type": "code",
   "execution_count": 135,
   "id": "ce881372",
   "metadata": {},
   "outputs": [],
   "source": [
    "def current(t):\n",
    "    return t/1000\n",
    "\n",
    "t = np.linspace(0, 10, 10)\n",
    "\n",
    "t4 = time.time()\n",
    "\n",
    "for i in range(len(t)):\n",
    "    # Set the source current to the value at t[i]\n",
    "    keithley.write(f':SOUR:CURR {current(t[i])}')\n",
    "    time.sleep(1)\n",
    "    keithley.write(f'DISPlay:USER1:TEXT \"CURR: {current(t[i]):.3e} A\"') #show the current being sourced. this was done due to display problems\n",
    "\n",
    "    # Turn on the output\n",
    "    keithley.write(':OUTP ON')\n",
    "\n",
    "    # Wait for some time (optional)\n",
    "    time.sleep(1)  # Adjust the sleep time as needed\n",
    "t5 = time.time()"
   ]
  },
  {
   "cell_type": "code",
   "execution_count": 103,
   "id": "c245e3e1",
   "metadata": {},
   "outputs": [
    {
     "data": {
      "text/plain": [
       "[0.419, -0.203, 0.003, 0.0]"
      ]
     },
     "execution_count": 103,
     "metadata": {},
     "output_type": "execute_result"
    }
   ],
   "source": [
    "url = 'http://10.10.15.22/cgi-bin/ope/allch.cgi'  #url of the yokogawa containing the voltage values\n",
    "html = urllib.request.urlopen(url).read() #open url and read it\n",
    "soup = BeautifulSoup(html, 'html.parser') #parse the html\n",
    "\n",
    "tables = soup.find_all('table') #find the table in the html content\n",
    "table = tables[1] #there are 2 tables in the html content, we're interested in the second one (has the voltage values)\n",
    "\n",
    "td_elements = table.find_all('td', align='center') #this block of code is getting the values of the voltage by narrwoing down on\n",
    "voltage_values = []                                #some elements that their code lines have in common: having 'td', 'center', \n",
    "for td in td_elements:                             #'b', and not having 'width'. To understand it better, run 'table' to see\n",
    "    b = td.find('b')                               #the full html code of the second table\n",
    "    if b:\n",
    "        try:\n",
    "            value = float(b.text.strip())\n",
    "            if 'width' not in td.attrs:\n",
    "                voltage_values.append(value)\n",
    "        except ValueError:\n",
    "            pass\n",
    "voltage_values #given in Volts "
   ]
  },
  {
   "cell_type": "code",
   "execution_count": null,
   "id": "9438f3b3",
   "metadata": {},
   "outputs": [],
   "source": []
  }
 ],
 "metadata": {
  "kernelspec": {
   "display_name": "Python 3 (ipykernel)",
   "language": "python",
   "name": "python3"
  },
  "language_info": {
   "codemirror_mode": {
    "name": "ipython",
    "version": 3
   },
   "file_extension": ".py",
   "mimetype": "text/x-python",
   "name": "python",
   "nbconvert_exporter": "python",
   "pygments_lexer": "ipython3",
   "version": "3.10.9"
  }
 },
 "nbformat": 4,
 "nbformat_minor": 5
}
